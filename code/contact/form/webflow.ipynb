{
 "cells": [
  {
   "cell_type": "code",
   "execution_count": null,
   "metadata": {
    "vscode": {
     "languageId": "html"
    }
   },
   "outputs": [],
   "source": [
    "JS | Header (End)\n",
    "_________________\n",
    "\n",
    "<!-- Finsweet - Custom form select -->\n",
    "<script defer src=\"https://cdn.jsdelivr.net/npm/@finsweet/attributes-selectcustom@1/selectcustom.js\"></script>"
   ]
  },
  {
   "cell_type": "code",
   "execution_count": null,
   "metadata": {
    "vscode": {
     "languageId": "html"
    }
   },
   "outputs": [],
   "source": [
    "JS | Footer (Before)\n",
    "____________________\n",
    "\n",
    "<!-- Formly - Custom form -->\n",
    "<script src=\"https://cdn.jsdelivr.net/gh/videsigns/webflow-tools@latest/multi-step.js\"> </script>\n",
    "\n",
    "<!-- GSAP Marquee -->\n",
    "<script src=\"https://cdn.jsdelivr.net/gh/michelkerkmeester/b2bgurus.com/code/global/gsap-marquee.js?v=1.0\"></script>"
   ]
  }
 ],
 "metadata": {
  "kernelspec": {
   "display_name": "Python 3",
   "language": "python",
   "name": "python3"
  },
  "language_info": {
   "name": "python",
   "version": "3.9.6"
  },
  "orig_nbformat": 4
 },
 "nbformat": 4,
 "nbformat_minor": 2
}

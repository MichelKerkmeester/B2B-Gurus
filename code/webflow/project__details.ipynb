{
 "cells": [
  {
   "cell_type": "code",
   "execution_count": null,
   "metadata": {
    "vscode": {
     "languageId": "html"
    }
   },
   "outputs": [],
   "source": [
    "JS | Header (End)\n",
    "_________________\n",
    "\n",
    "..."
   ]
  },
  {
   "cell_type": "code",
   "execution_count": null,
   "metadata": {
    "vscode": {
     "languageId": "html"
    }
   },
   "outputs": [],
   "source": [
    "JS | Footer (Before)\n",
    "____________________\n",
    "\n",
    "<!-- CMS template  -->\n",
    "<!-- Prev / Next Page -->\n",
    "<script>\n",
    "document.addEventListener(\"DOMContentLoaded\", (event) => {\n",
    "  // Select all components with the specified attribute\n",
    "  document.querySelectorAll(\"[tr-cmsnext-element='component']\").forEach((componentEl) => {\n",
    "    const cmsListEl = componentEl.querySelector(\".w-dyn-items\"),\n",
    "          cmsItemEl = Array.from(cmsListEl.children),\n",
    "          noResultEl = componentEl.querySelector(\"[tr-cmsnext-element='no-result']\");\n",
    "    \n",
    "    let currentItemEl = cmsItemEl.find(item => item.querySelector(\".w--current\"));\n",
    "    let nextItemEl = currentItemEl.nextElementSibling,\n",
    "        prevItemEl = currentItemEl.previousElementSibling;\n",
    "\n",
    "    // Loop to the first item if the next item doesn't exist\n",
    "    if (componentEl.getAttribute(\"tr-cmsnext-loop\") === \"true\") {\n",
    "      if (!nextItemEl) nextItemEl = cmsItemEl[0];\n",
    "      if (!prevItemEl) prevItemEl = cmsItemEl[cmsItemEl.length - 1];\n",
    "    }\n",
    "\n",
    "    let displayEl = nextItemEl;\n",
    "\n",
    "    // Show previous item if the attribute is set\n",
    "    if (componentEl.getAttribute(\"tr-cmsnext-showprev\") === \"true\") displayEl = prevItemEl;\n",
    "\n",
    "    // Show all items with specific classes if the attribute is set\n",
    "    if (componentEl.getAttribute(\"tr-cmsnext-showall\") === \"true\") {\n",
    "      prevItemEl.classList.add(\"is-prev\");\n",
    "      currentItemEl.classList.add(\"is-current\");\n",
    "      nextItemEl.classList.add(\"is-next\");\n",
    "    } else {\n",
    "      cmsItemEl.forEach(item => {\n",
    "        if (item !== displayEl) item.remove();\n",
    "      });\n",
    "      if (!displayEl) noResultEl.style.display = \"block\";\n",
    "      if (!displayEl && componentEl.getAttribute(\"tr-cmsnext-hideempty\") === \"true\") componentEl.style.display = \"none\";\n",
    "    }\n",
    "  });\n",
    "});\n",
    "</script>"
   ]
  }
 ],
 "metadata": {
  "kernelspec": {
   "display_name": "Python 3",
   "language": "python",
   "name": "python3"
  },
  "language_info": {
   "name": "python",
   "version": "3.9.6"
  },
  "orig_nbformat": 4
 },
 "nbformat": 4,
 "nbformat_minor": 2
}

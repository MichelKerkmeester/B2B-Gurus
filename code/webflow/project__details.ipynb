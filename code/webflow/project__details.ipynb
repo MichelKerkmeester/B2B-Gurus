{
 "cells": [
  {
   "cell_type": "code",
   "execution_count": null,
   "metadata": {
    "vscode": {
     "languageId": "html"
    }
   },
   "outputs": [],
   "source": [
    "JS | Header (End)\n",
    "_________________\n",
    "\n",
    "..."
   ]
  },
  {
   "cell_type": "code",
   "execution_count": null,
   "metadata": {
    "vscode": {
     "languageId": "html"
    }
   },
   "outputs": [],
   "source": [
    "JS | Footer (Before)\n",
    "____________________\n",
    "\n",
    "<!-- Project pagination -->\n",
    "<!-- Card hover -->\n",
    "<script src=\"https://cdn.jsdelivr.net/gh/michelkerkmeester/b2bgurus.com/code/js/hover/project-pagination.min.js\"></script>\n",
    "\n",
    "<!-- CMS template  -->\n",
    "<!-- Prev / Next page -->\n",
    "<script>\n",
    "    window.addEventListener(\"load\", function () {\n",
    "        // Wait until all scripts/resources are loaded\n",
    "\n",
    "        // Select all components with the specified attribute\n",
    "        document.querySelectorAll(\"[cmsnext-element='component']\").forEach((componentEl) => {\n",
    "            const cmsListEl = componentEl.querySelector(\".w-dyn-items\"),\n",
    "                cmsItemEl = Array.from(cmsListEl.children);\n",
    "\n",
    "            let currentItemEl = cmsItemEl.find((item) => item.querySelector(\".w--current\")),\n",
    "                nextItemEl = currentItemEl.nextElementSibling,\n",
    "                prevItemEl = currentItemEl.previousElementSibling;\n",
    "\n",
    "            // Loop to the first item if the next item doesn't exist\n",
    "            if (componentEl.getAttribute(\"cmsnext-loop\") === \"true\") {\n",
    "                if (!nextItemEl) nextItemEl = cmsItemEl[0];\n",
    "                if (!prevItemEl) prevItemEl = cmsItemEl[cmsItemEl.length - 1];\n",
    "            }\n",
    "\n",
    "            let displayEl = nextItemEl;\n",
    "\n",
    "            // Remove all items except the display element\n",
    "            cmsItemEl.forEach((item) => {\n",
    "                if (item !== displayEl) item.remove();\n",
    "            });\n",
    "        });\n",
    "    });\n",
    "</script>"
   ]
  }
 ],
 "metadata": {
  "kernelspec": {
   "display_name": "Python 3",
   "language": "python",
   "name": "python3"
  },
  "language_info": {
   "name": "python",
   "version": "3.9.6"
  },
  "orig_nbformat": 4
 },
 "nbformat": 4,
 "nbformat_minor": 2
}

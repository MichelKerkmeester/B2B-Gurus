{
 "cells": [
  {
   "cell_type": "code",
   "execution_count": null,
   "metadata": {
    "vscode": {
     "languageId": "html"
    }
   },
   "outputs": [],
   "source": [
    "JS | Header (End)\n",
    "_________________\n",
    "\n",
    "<!-- Finsweet - Load more -->\n",
    "<script async src=\"https://cdn.jsdelivr.net/npm/@finsweet/attributes-cmsload@1/cmsload.js\"></script>\n",
    "\n",
    "<!-- GSAP - Animation Library -->\n",
    "<script src=\"https://cdn.jsdelivr.net/npm/gsap@3.12.5/dist/gsap.min.js\"></script>\n",
    "\n",
    "<!-- GSAP - Scroll Trigger -->\n",
    "<script src=\"https://cdn.jsdelivr.net/npm/gsap@3.12.5/dist/ScrollTrigger.min.js\"></script>\n",
    "\n",
    "<!-- CSS - Responsive -->\n",
    "<link rel=\"stylesheet\" href=\"https://cdn.jsdelivr.net/gh/MichelKerkmeester/b2bgurus.com/code/home/responsive-home.css\">\n",
    "\n",
    "<!-- CSS - Styling -->\n",
    "<link rel=\"stylesheet\" href=\"https://cdn.jsdelivr.net/gh/MichelKerkmeester/b2bgurus.com/code/home/styling-home.css\">"
   ]
  },
  {
   "cell_type": "code",
   "execution_count": null,
   "metadata": {
    "vscode": {
     "languageId": "html"
    }
   },
   "outputs": [],
   "source": [
    "JS | Footer (Before)\n",
    "____________________\n",
    "\n",
    "<!-- CMS collection lists -->\n",
    "<!-- Apply attributes to individual CMS items -->\n",
    "<script src=\"https://cdn.jsdelivr.net/gh/michelkerkmeester/b2bgurus.com/cms-assign-attributes.js\"></script>\n",
    "\n",
    "<!-- Hero -->\n",
    "<!-- GSAP Marquee -->\n",
    "<script src=\"https://cdn.jsdelivr.net/gh/michelkerkmeester/b2bgurus.com/gsap-marquee.js\"></script>\n",
    "\n",
    "<!-- Projects -->\n",
    "<!-- Assign FS Load More to list -->\n",
    "<script src=\"https://cdn.jsdelivr.net/gh/michelkerkmeester/b2bgurus.com/assign-fs-load.js\"></script>\n",
    "\n",
    "<!-- Services -->\n",
    "<!-- GSAP Accordion -->\n",
    "<script src=\"https://cdn.jsdelivr.net/gh/michelkerkmeester/b2bgurus.com/gsap-accordion.js\"></script>\n",
    "\n",
    "<!-- Process -->\n",
    "<!-- GSAP Parallax -->\n",
    "<script src=\"https://cdn.jsdelivr.net/gh/michelkerkmeester/b2bgurus.com/process-parallax.js\"></script>"
   ]
  },
  {
   "cell_type": "code",
   "execution_count": null,
   "metadata": {
    "vscode": {
     "languageId": "html"
    }
   },
   "outputs": [],
   "source": []
  }
 ],
 "metadata": {
  "kernelspec": {
   "display_name": "Python 3",
   "language": "python",
   "name": "python3"
  },
  "language_info": {
   "name": "python",
   "version": "3.9.6"
  },
  "orig_nbformat": 4
 },
 "nbformat": 4,
 "nbformat_minor": 2
}

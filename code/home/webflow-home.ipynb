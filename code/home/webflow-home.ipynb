{
 "cells": [
  {
   "cell_type": "code",
   "execution_count": null,
   "metadata": {
    "vscode": {
     "languageId": "html"
    }
   },
   "outputs": [],
   "source": [
    "JS | Header (End)\n",
    "_________________\n",
    "\n",
    "<!-- Finsweet - Load more -->\n",
    "<script async src=\"https://cdn.jsdelivr.net/npm/@finsweet/attributes-cmsload@1/cmsload.js\"></script>\n",
    "\n",
    "<!-- CSS - Responsive -->\n",
    "<link rel=\"stylesheet\" href=\"https://cdn.jsdelivr.net/gh/MichelKerkmeester/b2bgurus.com/code/home/responsive-home.css?v=1.0\">\n",
    "\n",
    "<!-- CSS - Styling -->\n",
    "<link rel=\"stylesheet\" href=\"https://cdn.jsdelivr.net/gh/MichelKerkmeester/b2bgurus.com/code/home/styling-home.css?v=1.0\">\n",
    "\n",
    "<!-- CSS - Scrollbar - Light -->\n",
    "<link rel=\"stylesheet\" href=\"https://cdn.jsdelivr.net/gh/MichelKerkmeester/b2bgurus.com/code/global/scrollbar-dark.css?v=1.0\">"
   ]
  },
  {
   "cell_type": "code",
   "execution_count": null,
   "metadata": {
    "vscode": {
     "languageId": "html"
    }
   },
   "outputs": [],
   "source": [
    "JS | Footer (Before)\n",
    "____________________\n",
    "\n",
    "<!-- CMS collection lists -->\n",
    "<!-- Apply attributes to individual CMS items -->\n",
    "<script src=\"https://cdn.jsdelivr.net/gh/michelkerkmeester/b2bgurus.com/cms-attributes.js?v=1.0\"></script>\n",
    "\n",
    "<!-- Hero -->\n",
    "<!-- GSAP Marquee -->\n",
    "<script src=\"https://cdn.jsdelivr.net/gh/michelkerkmeester/b2bgurus.com/gsap-marquee.js?v=1.0\"></script>\n",
    "\n",
    "<!-- Projects -->\n",
    "<!-- Assign FS Load More to list -->\n",
    "<script src=\"https://cdn.jsdelivr.net/gh/michelkerkmeester/b2bgurus.com/assign-fs-load.js?v=1.0\"></script>\n",
    "\n",
    "<!-- Services -->\n",
    "<!-- GSAP Accordion -->\n",
    "<script src=\"https://cdn.jsdelivr.net/gh/michelkerkmeester/b2bgurus.com/gsap-accordion.js?v=1.0\"></script>\n",
    "\n",
    "<!-- Process -->\n",
    "<!-- GSAP Parallax -->\n",
    "<script src=\"https://cdn.jsdelivr.net/gh/michelkerkmeester/b2bgurus.com/process-parallax.js?v=1.0\"></script>"
   ]
  },
  {
   "cell_type": "code",
   "execution_count": null,
   "metadata": {
    "vscode": {
     "languageId": "html"
    }
   },
   "outputs": [],
   "source": []
  }
 ],
 "metadata": {
  "kernelspec": {
   "display_name": "Python 3",
   "language": "python",
   "name": "python3"
  },
  "language_info": {
   "name": "python",
   "version": "3.9.6"
  },
  "orig_nbformat": 4
 },
 "nbformat": 4,
 "nbformat_minor": 2
}

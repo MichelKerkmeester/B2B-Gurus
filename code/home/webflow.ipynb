{
 "cells": [
  {
   "cell_type": "code",
   "execution_count": null,
   "metadata": {
    "vscode": {
     "languageId": "html"
    }
   },
   "outputs": [],
   "source": [
    "JS | Header (End)\n",
    "_________________\n",
    "\n",
    "<!-- Finsweet - Load more -->\n",
    "<script async src=\"https://cdn.jsdelivr.net/npm/@finsweet/attributes-cmsload@1/cmsload.js\"></script>"
   ]
  },
  {
   "cell_type": "code",
   "execution_count": null,
   "metadata": {
    "vscode": {
     "languageId": "html"
    }
   },
   "outputs": [],
   "source": [
    "JS | Footer (Before)\n",
    "____________________\n",
    "\n",
    "<!-- CMS collection lists -->\n",
    "<!-- Apply attributes to individual CMS items -->\n",
    "<script src=\"https://cdn.jsdelivr.net/gh/michelkerkmeester/b2bgurus.com/code/global/javascript/cms-attributes.min.js?v=1.0\"></script>\n",
    "\n",
    "<!-- GSAP Marquee -->\n",
    "<script src=\"https://cdn.jsdelivr.net/gh/michelkerkmeester/b2bgurus.com/code/global/javascript/gsap-marquee.min.js?v=1.0\"></script>\n",
    "\n",
    "<!-- Projects -->\n",
    "<!-- Assign FS Load More to list -->\n",
    "<script src=\"https://cdn.jsdelivr.net/gh/michelkerkmeester/b2bgurus.com/code/global/javascript/assign-fs-load.min.js?v=1.0\"></script>\n",
    "\n",
    "<!-- Services -->\n",
    "<!-- GSAP Accordion -->\n",
    "<script src=\"https://cdn.jsdelivr.net/gh/michelkerkmeester/b2bgurus.com/code/global/javascript/gsap-accordion.min.js?v=1.0\"></script>\n",
    "\n",
    "<!-- Process -->\n",
    "<!-- GSAP Parallax -->\n",
    "<script src=\"https://cdn.jsdelivr.net/gh/michelkerkmeester/b2bgurus.com/code/home/process-parallax.min.js?v=1.0\"></script>"
   ]
  }
 ],
 "metadata": {
  "kernelspec": {
   "display_name": "Python 3",
   "language": "python",
   "name": "python3"
  },
  "language_info": {
   "name": "python",
   "version": "3.9.6"
  },
  "orig_nbformat": 4
 },
 "nbformat": 4,
 "nbformat_minor": 2
}
